{
 "cells": [
  {
   "cell_type": "code",
   "execution_count": 19,
   "id": "7d3d228a-bd44-4ff5-b6af-a09a615c2bf8",
   "metadata": {},
   "outputs": [],
   "source": [
    "import numpy as np"
   ]
  },
  {
   "cell_type": "markdown",
   "id": "d12bc4be-462c-497e-8e55-3d80e7e468a5",
   "metadata": {},
   "source": [
    "# TO - DO - Task"
   ]
  },
  {
   "cell_type": "markdown",
   "id": "bc9366c9-4185-44cc-9f62-8f6f61a69e72",
   "metadata": {
    "jp-MarkdownHeadingCollapsed": true
   },
   "source": [
    "## Exercise on Functions:"
   ]
  },
  {
   "cell_type": "code",
   "execution_count": 162,
   "id": "4a3c0737-fd7f-4a72-8929-e28c201ec238",
   "metadata": {},
   "outputs": [
    {
     "name": "stdout",
     "output_type": "stream",
     "text": [
      "Select the type of conversion:\n",
      "1. Length\n",
      "2. Weight\n",
      "3. Volume\n"
     ]
    },
    {
     "name": "stdin",
     "output_type": "stream",
     "text": [
      "Enter your choice (1, 2, or 3):  1\n",
      "Enter the value to be converted:  45\n"
     ]
    },
    {
     "name": "stdout",
     "output_type": "stream",
     "text": [
      "Select conversion type:\n",
      "1. Meters to Feet\n",
      "2. Feet to Meters\n"
     ]
    },
    {
     "name": "stdin",
     "output_type": "stream",
     "text": [
      "Enter your choice (1 or 2):  2\n"
     ]
    },
    {
     "name": "stdout",
     "output_type": "stream",
     "text": [
      "45.0 feet is equal to 13.72 meters.\n"
     ]
    }
   ],
   "source": [
    "def convert_length(value, conversion_type):\n",
    "    if conversion_type == 'm_to_ft':\n",
    "        return value * 3.28084  # Meters to feet\n",
    "    elif conversion_type == 'ft_to_m':\n",
    "        return value / 3.28084  # Feet to meters\n",
    "    else:\n",
    "        raise ValueError(\"Unsupported conversion type for length.\")\n",
    "\n",
    "def convert_weight(value, conversion_type):\n",
    "    if conversion_type == 'kg_to_lb':\n",
    "        return value * 2.20462  # Kilograms to pounds\n",
    "    elif conversion_type == 'lb_to_kg':\n",
    "        return value / 2.20462  # Pounds to kilograms\n",
    "    else:\n",
    "        raise ValueError(\"Unsupported conversion type for weight.\")\n",
    "\n",
    "def convert_volume(value, conversion_type):\n",
    "    if conversion_type == 'l_to_gal':\n",
    "        return value * 0.264172  # Liters to gallons\n",
    "    elif conversion_type == 'gal_to_l':\n",
    "        return value / 0.264172  # Gallons to liters\n",
    "    else:\n",
    "        raise ValueError(\"Unsupported conversion type for volume.\")\n",
    "\n",
    "def main():\n",
    "    print(\"Select the type of conversion:\")\n",
    "    print(\"1. Length\")\n",
    "    print(\"2. Weight\")\n",
    "    print(\"3. Volume\")\n",
    "\n",
    "    try:\n",
    "        conversion_choice = int(input(\"Enter your choice (1, 2, or 3): \"))\n",
    "        if conversion_choice not in [1, 2, 3]:\n",
    "            raise ValueError(\"Invalid choice.\")\n",
    "        \n",
    "        value = float(input(\"Enter the value to be converted: \"))\n",
    "        \n",
    "        if conversion_choice == 1:\n",
    "            print(\"Select conversion type:\")\n",
    "            print(\"1. Meters to Feet\")\n",
    "            print(\"2. Feet to Meters\")\n",
    "            length_choice = int(input(\"Enter your choice (1 or 2): \"))\n",
    "            if length_choice == 1:\n",
    "                result = convert_length(value, 'm_to_ft')\n",
    "                print(f\"{value} meters is equal to {result:.2f} feet.\")\n",
    "            elif length_choice == 2:\n",
    "                result = convert_length(value, 'ft_to_m')\n",
    "                print(f\"{value} feet is equal to {result:.2f} meters.\")\n",
    "            else:\n",
    "                raise ValueError(\"Invalid length conversion choice.\")\n",
    "        \n",
    "        elif conversion_choice == 2:\n",
    "            print(\"Select conversion type:\")\n",
    "            print(\"1. Kilograms to Pounds\")\n",
    "            print(\"2. Pounds to Kilograms\")\n",
    "            weight_choice = int(input(\"Enter your choice (1 or 2): \"))\n",
    "            if weight_choice == 1:\n",
    "                result = convert_weight(value, 'kg_to_lb')\n",
    "                print(f\"{value} kilograms is equal to {result:.2f} pounds.\")\n",
    "            elif weight_choice == 2:\n",
    "                result = convert_weight(value, 'lb_to_kg')\n",
    "                print(f\"{value} pounds is equal to {result:.2f} kilograms.\")\n",
    "            else:\n",
    "                raise ValueError(\"Invalid weight conversion choice.\")\n",
    "        \n",
    "        elif conversion_choice == 3:\n",
    "            print(\"Select conversion type:\")\n",
    "            print(\"1. Liters to Gallons\")\n",
    "            print(\"2. Gallons to Liters\")\n",
    "            volume_choice = int(input(\"Enter your choice (1 or 2): \"))\n",
    "            if volume_choice == 1:\n",
    "                result = convert_volume(value, 'l_to_gal')\n",
    "                print(f\"{value} liters is equal to {result:.2f} gallons.\")\n",
    "            elif volume_choice == 2:\n",
    "                result = convert_volume(value, 'gal_to_l')\n",
    "                print(f\"{value} gallons is equal to {result:.2f} liters.\")\n",
    "            else:\n",
    "                raise ValueError(\"Invalid volume conversion choice.\")\n",
    "        \n",
    "    except ValueError as e:\n",
    "        print(f\"Error: {e}\")\n",
    "\n",
    "if __name__ == \"__main__\":\n",
    "    main()\n"
   ]
  },
  {
   "cell_type": "markdown",
   "id": "a064a4ee-8b21-4ae9-b8af-5d17d419707d",
   "metadata": {
    "jp-MarkdownHeadingCollapsed": true
   },
   "source": [
    "# To - Do - NumPy"
   ]
  },
  {
   "cell_type": "markdown",
   "id": "4c2589ad-8175-4d3c-91b2-114f8560a4f2",
   "metadata": {
    "jp-MarkdownHeadingCollapsed": true
   },
   "source": [
    "## Problem - 1: Array Creation:"
   ]
  },
  {
   "cell_type": "code",
   "execution_count": 2,
   "id": "c1dd3c9b-75df-4ffe-ae0b-73f536360dc4",
   "metadata": {},
   "outputs": [
    {
     "name": "stdout",
     "output_type": "stream",
     "text": [
      "[[0. 0.]\n",
      " [0. 0.]]\n"
     ]
    }
   ],
   "source": [
    "# Question 1\n",
    "array = np.empty((2, 2))\n",
    "print(array)"
   ]
  },
  {
   "cell_type": "code",
   "execution_count": 4,
   "id": "e31dad24-ce2f-4a72-8720-3a84682ef969",
   "metadata": {},
   "outputs": [
    {
     "name": "stdout",
     "output_type": "stream",
     "text": [
      "[[1. 1.]\n",
      " [1. 1.]\n",
      " [1. 1.]\n",
      " [1. 1.]]\n"
     ]
    }
   ],
   "source": [
    "# Question 2\n",
    "array = np.ones((4, 2))\n",
    "print(array)"
   ]
  },
  {
   "cell_type": "code",
   "execution_count": 8,
   "id": "3e0f830c-98b0-498b-925e-9425b960d0bd",
   "metadata": {},
   "outputs": [
    {
     "name": "stdout",
     "output_type": "stream",
     "text": [
      "[[10 10 10]\n",
      " [10 10 10]\n",
      " [10 10 10]]\n"
     ]
    }
   ],
   "source": [
    "# Question 3\n",
    "array = np.full((3,3), 10)\n",
    "print(array)"
   ]
  },
  {
   "cell_type": "code",
   "execution_count": 13,
   "id": "d7fd2ae3-5480-488c-a6b4-9b974426ed37",
   "metadata": {},
   "outputs": [
    {
     "name": "stdout",
     "output_type": "stream",
     "text": [
      "[[0 0 0]\n",
      " [0 0 0]\n",
      " [0 0 0]]\n"
     ]
    }
   ],
   "source": [
    "# Question 4\n",
    "array = np.zeros_like(array)\n",
    "print(array)"
   ]
  },
  {
   "cell_type": "code",
   "execution_count": 14,
   "id": "44a84c13-7b78-4da3-87f9-0aaad466c07a",
   "metadata": {},
   "outputs": [
    {
     "name": "stdout",
     "output_type": "stream",
     "text": [
      "[[1 1 1]\n",
      " [1 1 1]\n",
      " [1 1 1]]\n"
     ]
    }
   ],
   "source": [
    "# Question 5\n",
    "array = np.ones_like(array)\n",
    "print(array)"
   ]
  },
  {
   "cell_type": "code",
   "execution_count": 17,
   "id": "cdde1ee4-373d-43ea-8af0-1651f4602fdf",
   "metadata": {},
   "outputs": [
    {
     "name": "stdout",
     "output_type": "stream",
     "text": [
      "[1 2 3 4]\n"
     ]
    }
   ],
   "source": [
    "# Question 6\n",
    "existing_list = [1,2,3,4]\n",
    "np_existing_arr = np.array(existing_list)\n",
    "print(np_existing_arr)"
   ]
  },
  {
   "cell_type": "markdown",
   "id": "f58e6afd-8f86-4deb-91ba-1568f9569c0b",
   "metadata": {
    "jp-MarkdownHeadingCollapsed": true
   },
   "source": [
    "## Problem - 2: Array Manipulation: Numerical Ranges and Array indexing:"
   ]
  },
  {
   "cell_type": "code",
   "execution_count": 22,
   "id": "87422b91-5688-43b2-90e4-e0fa6229a377",
   "metadata": {},
   "outputs": [
    {
     "name": "stdout",
     "output_type": "stream",
     "text": [
      "[10 11 12 13 14 15 16 17 18 19 20 21 22 23 24 25 26 27 28 29 30 31 32 33\n",
      " 34 35 36 37 38 39 40 41 42 43 44 45 46 47 48 49]\n"
     ]
    }
   ],
   "source": [
    "# Question 1\n",
    "arr = np.arange(10,50)\n",
    "print(arr)"
   ]
  },
  {
   "cell_type": "code",
   "execution_count": 33,
   "id": "7a6038e4-3c5d-4e26-b82e-79793056f7b0",
   "metadata": {},
   "outputs": [
    {
     "name": "stdout",
     "output_type": "stream",
     "text": [
      "[[0 1 2]\n",
      " [3 4 5]\n",
      " [6 7 8]]\n"
     ]
    }
   ],
   "source": [
    "# Question 2\n",
    "arr = np.arange(9).reshape(3,3)\n",
    "print(arr)"
   ]
  },
  {
   "cell_type": "code",
   "execution_count": 37,
   "id": "1d5af504-cb18-4b7f-b2f0-7bfd8ac97821",
   "metadata": {},
   "outputs": [
    {
     "name": "stdout",
     "output_type": "stream",
     "text": [
      "[[1. 0. 0.]\n",
      " [0. 1. 0.]\n",
      " [0. 0. 1.]]\n"
     ]
    }
   ],
   "source": [
    "# Question 3\n",
    "arr = np.eye(3,3)\n",
    "print(arr)"
   ]
  },
  {
   "cell_type": "code",
   "execution_count": 46,
   "id": "02c0073e-b195-4148-b1fd-9a41b9a1ce0e",
   "metadata": {},
   "outputs": [
    {
     "name": "stdout",
     "output_type": "stream",
     "text": [
      "0.5304907457951974\n"
     ]
    }
   ],
   "source": [
    "# Question 4\n",
    "random_array = np.random.random(30).mean()\n",
    "print(random_array)"
   ]
  },
  {
   "cell_type": "code",
   "execution_count": 57,
   "id": "bf2e06ad-4719-4c58-839d-a13453e3abb0",
   "metadata": {},
   "outputs": [
    {
     "name": "stdout",
     "output_type": "stream",
     "text": [
      "0.9992721032747913 is the max value\n",
      "0.00518773122158378 is the minimum value\n"
     ]
    }
   ],
   "source": [
    "# Question 5\n",
    "max, min = np.random.random(10*10).reshape(10,10).max(), np.random.random(10*10).reshape(10,10).min()\n",
    "print(f\"{max} is the max value\\n{min} is the minimum value\")"
   ]
  },
  {
   "cell_type": "code",
   "execution_count": 76,
   "id": "d0bac705-f21e-455d-9545-ecbed51e35d6",
   "metadata": {},
   "outputs": [
    {
     "name": "stdout",
     "output_type": "stream",
     "text": [
      "[[0. 0. 0. 0. 0. 0. 0. 0. 0. 0.]\n",
      " [0. 0. 0. 0. 0. 0. 0. 0. 0. 0.]\n",
      " [0. 0. 0. 0. 0. 0. 0. 0. 0. 0.]\n",
      " [0. 0. 0. 0. 0. 0. 0. 0. 0. 0.]\n",
      " [1. 1. 1. 1. 1. 1. 1. 1. 1. 1.]\n",
      " [0. 0. 0. 0. 0. 0. 0. 0. 0. 0.]\n",
      " [0. 0. 0. 0. 0. 0. 0. 0. 0. 0.]\n",
      " [0. 0. 0. 0. 0. 0. 0. 0. 0. 0.]\n",
      " [0. 0. 0. 0. 0. 0. 0. 0. 0. 0.]\n",
      " [0. 0. 0. 0. 0. 0. 0. 0. 0. 0.]]\n"
     ]
    }
   ],
   "source": [
    "# Question 6\n",
    "zeros_arr = np.zeros((10,10))\n",
    "zeros_arr[4] = 1\n",
    "print(zeros_arr)"
   ]
  },
  {
   "cell_type": "code",
   "execution_count": 71,
   "id": "388ef33a-dffe-4077-bb93-0e4ba475400b",
   "metadata": {},
   "outputs": [
    {
     "name": "stdout",
     "output_type": "stream",
     "text": [
      "[0, 4, 0, 0, 2, 1]\n"
     ]
    }
   ],
   "source": [
    "# Question 7\n",
    "arr = [1,2,0,0,4,0]\n",
    "reveresed_arr = arr[::-1]\n",
    "print(reveresed_arr)"
   ]
  },
  {
   "cell_type": "code",
   "execution_count": 82,
   "id": "e8124bab-388c-430e-ae1c-a2feda73b27f",
   "metadata": {},
   "outputs": [
    {
     "name": "stdout",
     "output_type": "stream",
     "text": [
      "[[1. 1. 1. 1.]\n",
      " [1. 0. 0. 1.]\n",
      " [1. 0. 0. 1.]\n",
      " [1. 1. 1. 1.]]\n"
     ]
    }
   ],
   "source": [
    "# Question 8\n",
    "sq_matrix = np.ones((4,4))\n",
    "# '1' → Start from index 1 (skip the first row/column).\n",
    "# '-1' → Stop before the last index (skip the last row/column).\n",
    "sq_matrix[1:-1,1:-1] = 0\n",
    "print(sq_matrix)"
   ]
  },
  {
   "cell_type": "code",
   "execution_count": 91,
   "id": "c4117aad-65c4-4f4a-8b61-d17e63aa48cf",
   "metadata": {},
   "outputs": [
    {
     "name": "stdout",
     "output_type": "stream",
     "text": [
      "[[0 1 0 1 0 1 0 1]\n",
      " [1 0 1 0 1 0 1 0]\n",
      " [0 1 0 1 0 1 0 1]\n",
      " [1 0 1 0 1 0 1 0]\n",
      " [0 1 0 1 0 1 0 1]\n",
      " [1 0 1 0 1 0 1 0]\n",
      " [0 1 0 1 0 1 0 1]\n",
      " [1 0 1 0 1 0 1 0]]\n"
     ]
    }
   ],
   "source": [
    "# Question 9\n",
    "checkerboard = np.zeros((8, 8), dtype=int)\n",
    "# '1 Starting Index'::'2 Skip'\n",
    "checkerboard[1::2, 0::2] = 1\n",
    "checkerboard[0::2, 1::2] = 1  # Set 1s in alternate rows & cols\n",
    "print(checkerboard)"
   ]
  },
  {
   "cell_type": "markdown",
   "id": "26159528-e4d7-4bbf-a19e-1f9fe83a3253",
   "metadata": {
    "jp-MarkdownHeadingCollapsed": true
   },
   "source": [
    "## Problem - 3: Array Operations:"
   ]
  },
  {
   "cell_type": "code",
   "execution_count": 93,
   "id": "50f3c653-a79c-4b53-9f6d-d6bf6841263f",
   "metadata": {},
   "outputs": [],
   "source": [
    "# Array Declarations\n",
    "x = np.array([[1,2],[3,5]]) \n",
    "y = np.array([[5,6],[7,8]]);\n",
    "v = np.array([9,10])\n",
    "w = np.array([11,12]);"
   ]
  },
  {
   "cell_type": "code",
   "execution_count": 94,
   "id": "32c05ae6-f24b-4718-9323-816e23a52bf8",
   "metadata": {},
   "outputs": [
    {
     "name": "stdout",
     "output_type": "stream",
     "text": [
      "[[ 6  8]\n",
      " [10 13]]\n"
     ]
    }
   ],
   "source": [
    "# Question 1\n",
    "added_array = x + y\n",
    "print(added_array)"
   ]
  },
  {
   "cell_type": "code",
   "execution_count": 95,
   "id": "12aae398-b3f9-4d7f-ba15-817c73bd6c1f",
   "metadata": {},
   "outputs": [
    {
     "name": "stdout",
     "output_type": "stream",
     "text": [
      "[-2 -2]\n"
     ]
    }
   ],
   "source": [
    "# Question 2\n",
    "substracted_array = v - w\n",
    "print(substracted_array)"
   ]
  },
  {
   "cell_type": "code",
   "execution_count": 96,
   "id": "24c1add4-dfa4-47b3-8529-63a27477e2cf",
   "metadata": {},
   "outputs": [
    {
     "name": "stdout",
     "output_type": "stream",
     "text": [
      "[[ 2  4]\n",
      " [ 6 10]]\n"
     ]
    }
   ],
   "source": [
    "# Question 3\n",
    "multiplied_array = 2 * x\n",
    "print(multiplied_array)"
   ]
  },
  {
   "cell_type": "code",
   "execution_count": 97,
   "id": "322052d9-10c1-4df3-b016-7d09a9979650",
   "metadata": {},
   "outputs": [
    {
     "name": "stdout",
     "output_type": "stream",
     "text": [
      "[[ 1  4]\n",
      " [ 9 25]]\n"
     ]
    }
   ],
   "source": [
    "# Question 4\n",
    "squarred_array = np.square(x)\n",
    "print(squarred_array)"
   ]
  },
  {
   "cell_type": "code",
   "execution_count": 112,
   "id": "a7faf06a-ce2a-4c4f-8135-b8544f53283f",
   "metadata": {},
   "outputs": [
    {
     "name": "stdout",
     "output_type": "stream",
     "text": [
      "V . W : 219\n",
      "X . V : [29 77]\n",
      "X . Y : [[19 22]\n",
      " [50 58]]\n"
     ]
    }
   ],
   "source": [
    "# Question 5\n",
    "v_w_dot_product = np.dot(v,w)\n",
    "print(f\"V . W : {v_w_dot_product}\")\n",
    "\n",
    "x_v_dot_product = np.dot(x,v)\n",
    "print(f\"X . V : {x_v_dot_product}\")\n",
    "\n",
    "x_y_dot_product = np.dot(x,y)\n",
    "print(f\"X . Y : {x_y_dot_product}\")"
   ]
  },
  {
   "cell_type": "code",
   "execution_count": 134,
   "id": "8a303d11-b5ec-41fe-8837-21b6b98ec7c5",
   "metadata": {},
   "outputs": [
    {
     "name": "stdout",
     "output_type": "stream",
     "text": [
      "[[1 2]\n",
      " [3 5]\n",
      " [5 6]\n",
      " [7 8]]\n",
      "[[ 9 10]\n",
      " [11 12]]\n"
     ]
    }
   ],
   "source": [
    "# Question 6\n",
    "print(np.concatenate((x,y)))\n",
    "print(np.vstack((v,w)))"
   ]
  },
  {
   "cell_type": "code",
   "execution_count": 138,
   "id": "584e9716-8b59-46c9-bb9c-5ebe8e9463c3",
   "metadata": {},
   "outputs": [
    {
     "ename": "ValueError",
     "evalue": "all the input arrays must have same number of dimensions, but the array at index 0 has 2 dimension(s) and the array at index 1 has 1 dimension(s)",
     "output_type": "error",
     "traceback": [
      "\u001b[0;31m---------------------------------------------------------------------------\u001b[0m",
      "\u001b[0;31mValueError\u001b[0m                                Traceback (most recent call last)",
      "Cell \u001b[0;32mIn[138], line 2\u001b[0m\n\u001b[1;32m      1\u001b[0m \u001b[38;5;66;03m# Question 7\u001b[39;00m\n\u001b[0;32m----> 2\u001b[0m \u001b[38;5;28mprint\u001b[39m(\u001b[43mnp\u001b[49m\u001b[38;5;241;43m.\u001b[39;49m\u001b[43mconcatenate\u001b[49m\u001b[43m(\u001b[49m\u001b[43m(\u001b[49m\u001b[43mx\u001b[49m\u001b[43m,\u001b[49m\u001b[43mv\u001b[49m\u001b[43m)\u001b[49m\u001b[43m)\u001b[49m)\n",
      "File \u001b[0;32m<__array_function__ internals>:200\u001b[0m, in \u001b[0;36mconcatenate\u001b[0;34m(*args, **kwargs)\u001b[0m\n",
      "\u001b[0;31mValueError\u001b[0m: all the input arrays must have same number of dimensions, but the array at index 0 has 2 dimension(s) and the array at index 1 has 1 dimension(s)"
     ]
    }
   ],
   "source": [
    "# Question 7\n",
    "print(np.concatenate((x,v)))\n"
   ]
  },
  {
   "cell_type": "markdown",
   "id": "eca01b82-f6e7-43c2-99b8-e6d066faf615",
   "metadata": {},
   "source": [
    "It gives an error as the dimension does not match"
   ]
  },
  {
   "cell_type": "markdown",
   "id": "d708c412-2940-47b4-8307-b66502f9d41a",
   "metadata": {},
   "source": [
    "## Problem - 4: Matrix Operations:"
   ]
  },
  {
   "cell_type": "code",
   "execution_count": 140,
   "id": "953bf261-fee3-41b8-868e-3281af1b8ebd",
   "metadata": {},
   "outputs": [],
   "source": [
    "# Array Declarations\n",
    "A = np.array([[3,4],[7,8]])\n",
    "B = np.array([[5,3],[2,1]]);"
   ]
  },
  {
   "cell_type": "code",
   "execution_count": 145,
   "id": "586e9c93-537c-45bf-9605-9235a788fa89",
   "metadata": {},
   "outputs": [
    {
     "name": "stdout",
     "output_type": "stream",
     "text": [
      "True\n"
     ]
    }
   ],
   "source": [
    "# Question 1\n",
    "\n",
    "# Prove A.A−1 = I.\n",
    "\n",
    "# Taking out the inverse of the matrix A\n",
    "A_inverse = np.linalg.inv(A)\n",
    "\n",
    "# Taking outo the dot product of two matrices\n",
    "result = np.dot(A, A_inverse)\n",
    "\n",
    "# Creating an identity matrix of 2x2\n",
    "I = np.eye(2)\n",
    "\n",
    "print(np.allclose(result, I))\n"
   ]
  },
  {
   "cell_type": "code",
   "execution_count": 151,
   "id": "f3b66406-34c1-45a6-a673-73d6b27a0b5a",
   "metadata": {},
   "outputs": [
    {
     "name": "stdout",
     "output_type": "stream",
     "text": [
      "[[23 13]\n",
      " [51 29]]\n",
      "\n",
      "[[36 44]\n",
      " [13 16]]\n"
     ]
    }
   ],
   "source": [
    "# Question 2\n",
    "\n",
    "# Prove AB ̸= BA.\n",
    "\n",
    "# Taking outo the dot product of two matrices\n",
    "result_ab = np.dot(A, B)\n",
    "result_ba = np.dot(B, A)\n",
    "\n",
    "print(result_ab)\n",
    "print()\n",
    "print(result_ba)"
   ]
  },
  {
   "cell_type": "code",
   "execution_count": 152,
   "id": "3b1b6cb3-9215-47d0-9d57-16e9406cc938",
   "metadata": {},
   "outputs": [
    {
     "name": "stdout",
     "output_type": "stream",
     "text": [
      "True\n"
     ]
    }
   ],
   "source": [
    "# Question 3\n",
    "\n",
    "# Prove (AB)T = BTAT\n",
    "ab_t = np.transpose(result_ab)\n",
    "btat = np.dot(np.transpose(B), np.transpose(A))\n",
    "\n",
    "print(np.allclose(ab_t, btat))"
   ]
  },
  {
   "cell_type": "code",
   "execution_count": 158,
   "id": "31d9af0e-71da-4dd1-915d-152e274e6e1a",
   "metadata": {},
   "outputs": [
    {
     "name": "stdout",
     "output_type": "stream",
     "text": [
      "[x, y, z] = [ 2.  1. -2.]\n"
     ]
    }
   ],
   "source": [
    "# Question 4\n",
    "\n",
    "# Writing in matrix form\n",
    "a = np.array([[2, -3, 1], [1, -1, 2], [3, 1, -1]])\n",
    "\n",
    "# Writing the target variable values\n",
    "b = np.array([-1, -3, 9])\n",
    "\n",
    "# Taking out the inverse of a\n",
    "a_inv = np.linalg.inv(a)\n",
    "\n",
    "# Solving the equation using the inversion method\n",
    "X = np.dot(a_inv, b)\n",
    "\n",
    "print(\"[x, y, z] =\" , X)\n"
   ]
  },
  {
   "cell_type": "code",
   "execution_count": null,
   "id": "2ee2e3dd-c9c6-402f-8575-2a138d626588",
   "metadata": {},
   "outputs": [],
   "source": []
  },
  {
   "cell_type": "code",
   "execution_count": null,
   "id": "dc4fe77f-8dd3-44c5-b53e-1178dea2af2c",
   "metadata": {},
   "outputs": [],
   "source": []
  }
 ],
 "metadata": {
  "kernelspec": {
   "display_name": "Python 3 (ipykernel)",
   "language": "python",
   "name": "python3"
  },
  "language_info": {
   "codemirror_mode": {
    "name": "ipython",
    "version": 3
   },
   "file_extension": ".py",
   "mimetype": "text/x-python",
   "name": "python",
   "nbconvert_exporter": "python",
   "pygments_lexer": "ipython3",
   "version": "3.11.1"
  }
 },
 "nbformat": 4,
 "nbformat_minor": 5
}
